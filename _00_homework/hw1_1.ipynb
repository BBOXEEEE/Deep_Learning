{
 "cells": [
  {
   "cell_type": "markdown",
   "source": [
    "# a_tensor_initialization.py"
   ],
   "metadata": {
    "collapsed": false
   },
   "id": "d5c0bbf6f7dc1dae"
  },
  {
   "cell_type": "code",
   "execution_count": 405,
   "outputs": [],
   "source": [
    "import torch"
   ],
   "metadata": {
    "collapsed": false,
    "ExecuteTime": {
     "end_time": "2023-09-13T14:41:55.600850Z",
     "start_time": "2023-09-13T14:41:55.493115Z"
    }
   },
   "id": "d573ed42a00704a5"
  },
  {
   "cell_type": "code",
   "execution_count": 406,
   "outputs": [
    {
     "name": "stdout",
     "output_type": "stream",
     "text": [
      "torch.float32\n",
      "cpu\n",
      "False\n",
      "torch.Size([3])\n",
      "torch.Size([3])\n"
     ]
    }
   ],
   "source": [
    "# torch.Tensor class\n",
    "t1 = torch.Tensor([1, 2, 3], device='cpu')\n",
    "print(t1.dtype)\n",
    "print(t1.device)\n",
    "print(t1.requires_grad)\n",
    "print(t1.size())\n",
    "print(t1.shape)\n"
   ],
   "metadata": {
    "collapsed": false,
    "ExecuteTime": {
     "end_time": "2023-09-13T14:41:55.610934Z",
     "start_time": "2023-09-13T14:41:55.498551Z"
    }
   },
   "id": "b1e8d5540a05f156"
  },
  {
   "cell_type": "markdown",
   "source": [],
   "metadata": {
    "collapsed": false
   },
   "id": "6f1f339c6657b813"
  },
  {
   "cell_type": "code",
   "execution_count": 407,
   "outputs": [
    {
     "name": "stdout",
     "output_type": "stream",
     "text": [
      "torch.int64\n",
      "cpu\n",
      "False\n",
      "torch.Size([3])\n",
      "torch.Size([3])\n"
     ]
    }
   ],
   "source": [
    "t2 = torch.tensor([1, 2, 3], device='cpu')\n",
    "print(t2.dtype)\n",
    "print(t2.device)\n",
    "print(t2.requires_grad)\n",
    "print(t2.size())\n",
    "print(t2.shape)"
   ],
   "metadata": {
    "collapsed": false,
    "ExecuteTime": {
     "end_time": "2023-09-13T14:41:55.620209Z",
     "start_time": "2023-09-13T14:41:55.503538Z"
    }
   },
   "id": "7fe853789bf9b27d"
  },
  {
   "cell_type": "markdown",
   "source": [
    "### 정리\n",
    "- Tensor의 데이터 타입은 **torch.float32**와 **torch.int64**가 많이 사용된다.\n",
    "- **torch.Tensor**는 기본 tensor 타입인 **torch.FloatTensor** 타입으로 tensor를 생성한다.\n",
    "- **torch.tensor**는 이미 존재하는 것을 Tensor로 변경해준다. 따라서, 주어진 리스트 내의 데이터 타입을 유지시켜준다."
   ],
   "metadata": {
    "collapsed": false
   },
   "id": "a758f93a11f9e584"
  },
  {
   "cell_type": "markdown",
   "source": [
    "# b_tensor_initialization_copy.py"
   ],
   "metadata": {
    "collapsed": false
   },
   "id": "484099ec4c50ef17"
  },
  {
   "cell_type": "code",
   "execution_count": 408,
   "outputs": [],
   "source": [
    "import torch\n",
    "import numpy as np"
   ],
   "metadata": {
    "collapsed": false,
    "ExecuteTime": {
     "end_time": "2023-09-13T14:41:55.620321Z",
     "start_time": "2023-09-13T14:41:55.506689Z"
    }
   },
   "id": "95f5643a0ba51689"
  },
  {
   "cell_type": "code",
   "execution_count": 409,
   "outputs": [],
   "source": [
    "l1 = [1, 2, 3]\n",
    "t1 = torch.Tensor(l1)   # l1의 데이터 타입을 유지하지 않고, torch.float32 Tensor를 만든다.\n",
    "\n",
    "l2 = [1, 2, 3]\n",
    "t2 = torch.tensor(l2)   # l2의 데이터 타입을 유지하면서 Tensor를 만든다.\n",
    "\n",
    "l3 = [1, 2, 3]\n",
    "t3 = torch.as_tensor(l3)    # as_tensor는 Tensor로 변경해준다."
   ],
   "metadata": {
    "collapsed": false,
    "ExecuteTime": {
     "end_time": "2023-09-13T14:41:55.676993Z",
     "start_time": "2023-09-13T14:41:55.510634Z"
    }
   },
   "id": "240b4ac20139dac5"
  },
  {
   "cell_type": "code",
   "execution_count": 410,
   "outputs": [
    {
     "name": "stdout",
     "output_type": "stream",
     "text": [
      "tensor([1., 2., 3.])\n",
      "tensor([1, 2, 3])\n",
      "tensor([1, 2, 3])\n"
     ]
    }
   ],
   "source": [
    "l1[0] = 100\n",
    "l2[0] = 100\n",
    "l3[0] = 100\n",
    "\n",
    "print(t1)\n",
    "print(t2)\n",
    "print(t3)"
   ],
   "metadata": {
    "collapsed": false,
    "ExecuteTime": {
     "end_time": "2023-09-13T14:41:55.678563Z",
     "start_time": "2023-09-13T14:41:55.514329Z"
    }
   },
   "id": "5def794428cb55a"
  },
  {
   "cell_type": "code",
   "execution_count": 411,
   "outputs": [],
   "source": [
    "l4 = np.array([1, 2, 3])\n",
    "t4 = torch.Tensor(l4)\n",
    "\n",
    "l5 = np.array([1, 2, 3])\n",
    "t5 = torch.tensor(l5)\n",
    "\n",
    "l6 = np.array(([1, 2, 3]))\n",
    "t6 = torch.as_tensor(l6)"
   ],
   "metadata": {
    "collapsed": false,
    "ExecuteTime": {
     "end_time": "2023-09-13T14:41:55.678615Z",
     "start_time": "2023-09-13T14:41:55.519502Z"
    }
   },
   "id": "5610f2fd3b7f689a"
  },
  {
   "cell_type": "code",
   "execution_count": 412,
   "outputs": [
    {
     "name": "stdout",
     "output_type": "stream",
     "text": [
      "tensor([1., 2., 3.])\n",
      "tensor([1, 2, 3])\n",
      "tensor([100,   2,   3])\n"
     ]
    }
   ],
   "source": [
    "l4[0] = 100\n",
    "l5[0] = 100\n",
    "l6[0] = 100\n",
    "\n",
    "print(t4)\n",
    "print(t5)\n",
    "print(t6)"
   ],
   "metadata": {
    "collapsed": false,
    "ExecuteTime": {
     "end_time": "2023-09-13T14:41:55.685894Z",
     "start_time": "2023-09-13T14:41:55.523242Z"
    }
   },
   "id": "9013f49c570db9f0"
  },
  {
   "cell_type": "markdown",
   "source": [
    "### 정리\n",
    "- **torch.Tensor** 와 **torch.tensor** 는 항상 주어진 List의 값 (or 데이터)을 복사한다.\n",
    "- **torch.Tensor** 는 데이터 타입을 **torch.float32** 형태로 Tensor를 생성한다.\n",
    "- **torch.tensor** 는 주어진 리스트 데이터 타입을 유지시켜준다.\n",
    "- **torch.as_tensor** 는 데이터 복사없이 Tensor를 만든다.\n",
    "- **numpy array** 에서 Tensor와 numpy array는 값을 공유한다.\n",
    "- 참고로, numpy array를 Tensor로 변환하는 속도는 as_tensor보다 from_numpy 성능이 빠르다."
   ],
   "metadata": {
    "collapsed": false
   },
   "id": "f1e4a18ee1653629"
  },
  {
   "cell_type": "markdown",
   "source": [
    "# c_tensor_initialization_constant_values.py"
   ],
   "metadata": {
    "collapsed": false
   },
   "id": "21fdcfab0ce25f0a"
  },
  {
   "cell_type": "code",
   "execution_count": 413,
   "outputs": [],
   "source": [
    "import torch"
   ],
   "metadata": {
    "collapsed": false,
    "ExecuteTime": {
     "end_time": "2023-09-13T14:41:55.687375Z",
     "start_time": "2023-09-13T14:41:55.528248Z"
    }
   },
   "id": "3e89490210be3c1b"
  },
  {
   "cell_type": "code",
   "execution_count": 414,
   "outputs": [
    {
     "name": "stdout",
     "output_type": "stream",
     "text": [
      "tensor([1., 1., 1., 1., 1.])\n",
      "tensor([1., 1., 1., 1., 1.])\n"
     ]
    }
   ],
   "source": [
    "t1 = torch.ones(size=(5,))\n",
    "t1_like = torch.ones_like(input=t1)\n",
    "print(t1)\n",
    "print(t1_like)"
   ],
   "metadata": {
    "collapsed": false,
    "ExecuteTime": {
     "end_time": "2023-09-13T14:41:55.687456Z",
     "start_time": "2023-09-13T14:41:55.531582Z"
    }
   },
   "id": "773dce3c43efcdfc"
  },
  {
   "cell_type": "markdown",
   "source": [
    "### 정리 (1)\n",
    "- **torch.ones** 는 텐서의 모든 값이 1이고, 인자로 지정한 사이즈의 텐서를 생성한다.\n",
    "- **torch.ones_like** 는 입력으로 넣은 텐서와 동일한 크기의 모든 값이 1인 텐서를 생성한다."
   ],
   "metadata": {
    "collapsed": false
   },
   "id": "7b7b83ad24027572"
  },
  {
   "cell_type": "code",
   "execution_count": 415,
   "outputs": [
    {
     "name": "stdout",
     "output_type": "stream",
     "text": [
      "tensor([0., 0., 0., 0., 0., 0.])\n",
      "tensor([0., 0., 0., 0., 0., 0.])\n"
     ]
    }
   ],
   "source": [
    "t2 = torch.zeros(size=(6,))\n",
    "t2_like = torch.zeros_like(input=t2)\n",
    "print(t2)\n",
    "print(t2_like)"
   ],
   "metadata": {
    "collapsed": false,
    "ExecuteTime": {
     "end_time": "2023-09-13T14:41:55.690388Z",
     "start_time": "2023-09-13T14:41:55.535239Z"
    }
   },
   "id": "6adb88620999bb23"
  },
  {
   "cell_type": "markdown",
   "source": [
    "### 정리 (2)\n",
    "- **torch.zeros** 는 텐서의 모든 값이 0이고, 인자로 지정한 사이즈의 텐서를 생성한다.\n",
    "- **torch.zeros_like** 는 입력으로 넣은 텐서와 동일한 크기의 모든 값이 0인 텐서를 생성한다."
   ],
   "metadata": {
    "collapsed": false
   },
   "id": "181d1a5e8b124f25"
  },
  {
   "cell_type": "code",
   "execution_count": 416,
   "outputs": [
    {
     "name": "stdout",
     "output_type": "stream",
     "text": [
      "tensor([0., 0., 0., 0.])\n",
      "tensor([0., 0., 0., 0.])\n"
     ]
    }
   ],
   "source": [
    "t3 = torch.empty(size=(4,))\n",
    "t3_like = torch.empty_like(input=t3)\n",
    "print(t3)\n",
    "print(t3_like)"
   ],
   "metadata": {
    "collapsed": false,
    "ExecuteTime": {
     "end_time": "2023-09-13T14:41:55.691937Z",
     "start_time": "2023-09-13T14:41:55.540338Z"
    }
   },
   "id": "1a4f5ca936cdc735"
  },
  {
   "cell_type": "markdown",
   "source": [
    "### 정리 (3)\n",
    "- **torch.empty** 는 텐서의 성분이 쓰레기 값을 가지며, 지정한 사이즈의 텐서를 생성한다.\n",
    "- **torch.empty_like** 는 입력으로 넣은 텐서와 동일한 크기의 성분이 쓰레기 값인 텐서를 생성한다."
   ],
   "metadata": {
    "collapsed": false
   },
   "id": "3110c95d8933f54c"
  },
  {
   "cell_type": "code",
   "execution_count": 417,
   "outputs": [
    {
     "name": "stdout",
     "output_type": "stream",
     "text": [
      "tensor([[1., 0., 0.],\n",
      "        [0., 1., 0.],\n",
      "        [0., 0., 1.]])\n"
     ]
    }
   ],
   "source": [
    "t4 = torch.eye(n=3)\n",
    "print(t4)"
   ],
   "metadata": {
    "collapsed": false,
    "ExecuteTime": {
     "end_time": "2023-09-13T14:41:55.692906Z",
     "start_time": "2023-09-13T14:41:55.543228Z"
    }
   },
   "id": "ecd6328fcf93878b"
  },
  {
   "cell_type": "markdown",
   "source": [
    "### 정리 (4)\n",
    "- **torch.eye** 는 대각선 방향으로 1인 즉, 항등행렬인 nxn 의 텐서를 생성한다."
   ],
   "metadata": {
    "collapsed": false
   },
   "id": "7dd88c629d848a6e"
  },
  {
   "cell_type": "markdown",
   "source": [
    "# d_tensor_initialization_random_values.py"
   ],
   "metadata": {
    "collapsed": false
   },
   "id": "15c0f0cbfa717776"
  },
  {
   "cell_type": "code",
   "execution_count": 418,
   "outputs": [],
   "source": [
    "import torch "
   ],
   "metadata": {
    "collapsed": false,
    "ExecuteTime": {
     "end_time": "2023-09-13T14:41:55.693413Z",
     "start_time": "2023-09-13T14:41:55.545830Z"
    }
   },
   "id": "bb18ac956cdf0224"
  },
  {
   "cell_type": "code",
   "execution_count": 419,
   "outputs": [
    {
     "name": "stdout",
     "output_type": "stream",
     "text": [
      "tensor([[19, 10]])\n"
     ]
    }
   ],
   "source": [
    "t1 = torch.randint(low=10, high=20, size=(1, 2))\n",
    "print(t1)"
   ],
   "metadata": {
    "collapsed": false,
    "ExecuteTime": {
     "end_time": "2023-09-13T14:41:55.694846Z",
     "start_time": "2023-09-13T14:41:55.548734Z"
    }
   },
   "id": "5e494ed0ff842493"
  },
  {
   "cell_type": "markdown",
   "source": [
    "### 정리 (1)\n",
    "- **torch.randint** 는 랜덤한 정수값으로 텐서를 생성할 수 있다.\n",
    "- 인자로 주어지는 low와 high는 각각 inclusive와 exclusive이다.\n",
    "- 즉, 10과 20이 주어진다면 10~19 사이의 랜덤한 값으로 텐서를 생성한다."
   ],
   "metadata": {
    "collapsed": false
   },
   "id": "3c096443e681ae4a"
  },
  {
   "cell_type": "code",
   "execution_count": 420,
   "outputs": [
    {
     "name": "stdout",
     "output_type": "stream",
     "text": [
      "tensor([[0.6146, 0.5999, 0.5013]])\n"
     ]
    }
   ],
   "source": [
    "t2 = torch.rand(size=(1, 3))\n",
    "print(t2)"
   ],
   "metadata": {
    "collapsed": false,
    "ExecuteTime": {
     "end_time": "2023-09-13T14:41:55.699340Z",
     "start_time": "2023-09-13T14:41:55.552357Z"
    }
   },
   "id": "96d1e54faf622924"
  },
  {
   "cell_type": "markdown",
   "source": [
    "### 정리 (2)\n",
    "- **torch.rand** 0과 1사이의 같은 확률로 무작위 값을 텐서로 생성한다.\n",
    "- 생성된 텐서의 데이터 타입은 **float** 이다."
   ],
   "metadata": {
    "collapsed": false
   },
   "id": "a9d71a6fdda71844"
  },
  {
   "cell_type": "code",
   "execution_count": 421,
   "outputs": [
    {
     "name": "stdout",
     "output_type": "stream",
     "text": [
      "tensor([[-0.5975, -0.0649,  0.3680]])\n"
     ]
    }
   ],
   "source": [
    "t3 = torch.randn(size=(1, 3))\n",
    "print(t3)"
   ],
   "metadata": {
    "collapsed": false,
    "ExecuteTime": {
     "end_time": "2023-09-13T14:41:55.699550Z",
     "start_time": "2023-09-13T14:41:55.555345Z"
    }
   },
   "id": "2dda2c9c5c6be0df"
  },
  {
   "cell_type": "markdown",
   "source": [
    "### 정리 (3)\n",
    "- **torch.randn** 은 0과 1사이 무작위 값을 생성한다.\n",
    "- 일반 rand와의 차이점은 생성된 무작위 값이 정규분포를 따른다는 점이다."
   ],
   "metadata": {
    "collapsed": false
   },
   "id": "8032099f23ce710a"
  },
  {
   "cell_type": "code",
   "execution_count": 422,
   "outputs": [
    {
     "name": "stdout",
     "output_type": "stream",
     "text": [
      "tensor([[ 9.7003,  8.7733],\n",
      "        [10.5015,  9.9954],\n",
      "        [10.2038,  9.7056]])\n"
     ]
    }
   ],
   "source": [
    "t4 = torch.normal(mean=10.0, std=1.0, size=(3, 2))\n",
    "print(t4)"
   ],
   "metadata": {
    "collapsed": false,
    "ExecuteTime": {
     "end_time": "2023-09-13T14:41:55.701191Z",
     "start_time": "2023-09-13T14:41:55.557952Z"
    }
   },
   "id": "283300557cf3c520"
  },
  {
   "cell_type": "markdown",
   "source": [
    "### 정리 (4)\n",
    "- **torch.normal** 은 정규분포에서 무작위 값을 생성한다.\n",
    "- 또한, 인자로 주어지는 평균 값 근처의 값을 텐서로 생성한다."
   ],
   "metadata": {
    "collapsed": false
   },
   "id": "fec92114242d8d7b"
  },
  {
   "cell_type": "code",
   "execution_count": 423,
   "outputs": [
    {
     "name": "stdout",
     "output_type": "stream",
     "text": [
      "tensor([0.0000, 2.5000, 5.0000])\n"
     ]
    }
   ],
   "source": [
    "t5 = torch.linspace(start=0.0, end=5.0, steps=3)\n",
    "print(t5)"
   ],
   "metadata": {
    "collapsed": false,
    "ExecuteTime": {
     "end_time": "2023-09-13T14:41:55.702689Z",
     "start_time": "2023-09-13T14:41:55.561033Z"
    }
   },
   "id": "938e41488d683fd7"
  },
  {
   "cell_type": "markdown",
   "source": [
    "### 정리 (5)\n",
    "- **torch.linspace** 는 시작과 끝이 인자로 주어지고, steps가 주어진다.\n",
    "- 시작과 끝 사이의 값에서 텐서를 생성하며 각 원소들의 차이는 steps 만큼 차이가 난다.\n",
    "- one-dimensional 텐서이다."
   ],
   "metadata": {
    "collapsed": false
   },
   "id": "f9f4117dd03b820"
  },
  {
   "cell_type": "code",
   "execution_count": 424,
   "outputs": [
    {
     "name": "stdout",
     "output_type": "stream",
     "text": [
      "tensor([0, 1, 2, 3, 4])\n"
     ]
    }
   ],
   "source": [
    "t6 = torch.arange(5)\n",
    "print(t6)"
   ],
   "metadata": {
    "collapsed": false,
    "ExecuteTime": {
     "end_time": "2023-09-13T14:41:55.702788Z",
     "start_time": "2023-09-13T14:41:55.563907Z"
    }
   },
   "id": "66415f90b3c9e70e"
  },
  {
   "cell_type": "markdown",
   "source": [
    "### 정리 (6)\n",
    "- **torch.arange** 는 start와 end가 인자로 주어질 수 있고, 각각 inclusive와 exclusive이다.\n",
    "- start부터 end까지 순서대로 값을 생성한다.\n",
    "- 위 코드에서 start가 생략되었는데, start=0이 기본값이므로, 0부터 5까지의 값을 차례대로 생성한다.\n",
    "- 또한 steps도 인자로 지정할 수 있으며 기본값은 1이다."
   ],
   "metadata": {
    "collapsed": false
   },
   "id": "267be6bc9e6fd780"
  },
  {
   "cell_type": "code",
   "execution_count": 425,
   "outputs": [
    {
     "name": "stdout",
     "output_type": "stream",
     "text": [
      "tensor([[0.3126, 0.3791, 0.3087],\n",
      "        [0.0736, 0.4216, 0.0691]])\n",
      "tensor([[0.2332, 0.4047, 0.2162],\n",
      "        [0.9927, 0.4128, 0.5938]])\n",
      "\n",
      "tensor([[0.3126, 0.3791, 0.3087],\n",
      "        [0.0736, 0.4216, 0.0691]])\n",
      "tensor([[0.2332, 0.4047, 0.2162],\n",
      "        [0.9927, 0.4128, 0.5938]])\n"
     ]
    }
   ],
   "source": [
    "torch.manual_seed(1729)\n",
    "random1 = torch.rand(2, 3)\n",
    "print(random1)\n",
    "\n",
    "random2 = torch.rand(2, 3)\n",
    "print(random2)\n",
    "\n",
    "print()\n",
    "\n",
    "torch.manual_seed(1729)\n",
    "random3 = torch.rand(2, 3)\n",
    "print(random3)\n",
    "\n",
    "random4 = torch.rand(2, 3)\n",
    "print(random4)"
   ],
   "metadata": {
    "collapsed": false,
    "ExecuteTime": {
     "end_time": "2023-09-13T14:41:55.715480Z",
     "start_time": "2023-09-13T14:41:55.567379Z"
    }
   },
   "id": "4657d34adf6fa5b4"
  },
  {
   "cell_type": "markdown",
   "source": [
    "### 정리 (7)\n",
    "- 랜덤하게 생성한 값을 똑같이 재생성하고 싶다면 **torch.manual_seed** 를 사용하면 된다.\n",
    "- seed 값이 동일하면 같은 랜덤한 값을 가지는 텐서를 생성해준다."
   ],
   "metadata": {
    "collapsed": false
   },
   "id": "b9081a8c4b88bdff"
  },
  {
   "cell_type": "markdown",
   "source": [
    "# e_tensor_type_conversion.py"
   ],
   "metadata": {
    "collapsed": false
   },
   "id": "77c86c12e2cadf30"
  },
  {
   "cell_type": "code",
   "execution_count": 426,
   "outputs": [],
   "source": [
    "import torch"
   ],
   "metadata": {
    "collapsed": false,
    "ExecuteTime": {
     "end_time": "2023-09-13T14:41:55.717177Z",
     "start_time": "2023-09-13T14:41:55.571835Z"
    }
   },
   "id": "9a9c404d4fec4cc3"
  },
  {
   "cell_type": "code",
   "execution_count": 433,
   "outputs": [
    {
     "name": "stdout",
     "output_type": "stream",
     "text": [
      "torch.float32\n"
     ]
    }
   ],
   "source": [
    "# torch.ones는 모든 값이 1인 텐서를 생성한다. 데이터 타입은 기본 float32 타입으로 생성된다.\n",
    "a = torch.ones((2, 3))\n",
    "print(a.dtype)"
   ],
   "metadata": {
    "collapsed": false,
    "ExecuteTime": {
     "end_time": "2023-09-13T15:01:26.240602Z",
     "start_time": "2023-09-13T15:01:26.223123Z"
    }
   },
   "id": "6e37ea7ebe0692aa"
  },
  {
   "cell_type": "code",
   "execution_count": 428,
   "outputs": [
    {
     "name": "stdout",
     "output_type": "stream",
     "text": [
      "tensor([[1, 1, 1],\n",
      "        [1, 1, 1]], dtype=torch.int16)\n"
     ]
    }
   ],
   "source": [
    "b = torch.ones((2, 3), dtype=torch.int16)\n",
    "print(b)"
   ],
   "metadata": {
    "collapsed": false,
    "ExecuteTime": {
     "end_time": "2023-09-13T14:41:55.718827Z",
     "start_time": "2023-09-13T14:41:55.577156Z"
    }
   },
   "id": "c47930101c71dc33"
  },
  {
   "cell_type": "markdown",
   "source": [
    "### 정리 (1)\n",
    "- 텐서 생성 시 데이터 타입을 지정할 수 있다.\n",
    "- 위 코드에서는 데이터 타입을 torch.int16 으로 지정했다."
   ],
   "metadata": {
    "collapsed": false
   },
   "id": "7b7583af069f95a1"
  },
  {
   "cell_type": "code",
   "execution_count": 436,
   "outputs": [
    {
     "name": "stdout",
     "output_type": "stream",
     "text": [
      "tensor([[12.2735, 15.0785,  3.7556],\n",
      "        [18.2945, 11.7589, 10.5674]], dtype=torch.float64)\n"
     ]
    }
   ],
   "source": [
    "c = torch.rand((2, 3), dtype=torch.float64) * 20.\n",
    "print(c)"
   ],
   "metadata": {
    "collapsed": false,
    "ExecuteTime": {
     "end_time": "2023-09-13T15:05:06.614135Z",
     "start_time": "2023-09-13T15:05:06.598390Z"
    }
   },
   "id": "8ab2fef07c05a048"
  },
  {
   "cell_type": "markdown",
   "source": [
    "### 정리 (2)\n",
    "- 위 코드에서 뒤에 * 20은 랜덤하게 생성된 값에 20을 곱해주는 것이다.\n",
    "- 해당 연산은 broadcasting 되어 연산된다."
   ],
   "metadata": {
    "collapsed": false
   },
   "id": "10b03adbe623a7b0"
  },
  {
   "cell_type": "code",
   "execution_count": 430,
   "outputs": [
    {
     "name": "stdout",
     "output_type": "stream",
     "text": [
      "tensor([[1, 1, 1],\n",
      "        [1, 1, 1]], dtype=torch.int32)\n"
     ]
    }
   ],
   "source": [
    "d = b.to(torch.int32)\n",
    "print(d)"
   ],
   "metadata": {
    "collapsed": false,
    "ExecuteTime": {
     "end_time": "2023-09-13T14:41:55.718974Z",
     "start_time": "2023-09-13T14:41:55.582149Z"
    }
   },
   "id": "fb7cbfbe6fbde506"
  },
  {
   "cell_type": "markdown",
   "source": [
    "### 정리 (3)\n",
    "- **Torch.to(other)** 은 해당 텐서의 데이터 타입을 인자의 데이터타입으로 변환해준다."
   ],
   "metadata": {
    "collapsed": false
   },
   "id": "9201c2b920e89422"
  },
  {
   "cell_type": "code",
   "execution_count": 431,
   "outputs": [
    {
     "name": "stdout",
     "output_type": "stream",
     "text": [
      "torch.float64\n",
      "torch.int16\n"
     ]
    }
   ],
   "source": [
    "double_d = torch.ones(10, 2, dtype=torch.double)\n",
    "short_e = torch.tensor([[1, 2]], dtype=torch.short)\n",
    "\n",
    "double_d = torch.zeros(10, 2).double()\n",
    "short_e = torch.ones(10, 2).short()\n",
    "\n",
    "double_d = torch.zeros(10, 2).to(torch.double)\n",
    "short_e = torch.ones(10, 2).to(dtype=torch.short)\n",
    "\n",
    "print(double_d.dtype)\n",
    "print(short_e.dtype)"
   ],
   "metadata": {
    "collapsed": false,
    "ExecuteTime": {
     "end_time": "2023-09-13T14:41:55.722287Z",
     "start_time": "2023-09-13T14:41:55.585161Z"
    }
   },
   "id": "554028c6f70ae8b3"
  },
  {
   "cell_type": "markdown",
   "source": [
    "### 정리 (4)\n",
    "- 각 **double_d** 와 **short_e** 는 각각 float64와 int16 타입의 텐서로 타입을 생성하는 여러 방법들이다."
   ],
   "metadata": {
    "collapsed": false
   },
   "id": "925ec5bb6a985542"
  },
  {
   "cell_type": "code",
   "execution_count": 438,
   "outputs": [
    {
     "name": "stdout",
     "output_type": "stream",
     "text": [
      "torch.float64\n"
     ]
    }
   ],
   "source": [
    "double_f = torch.rand(5, dtype=torch.double)\n",
    "short_g = double_f.to(torch.short)\n",
    "print((double_f * short_g).dtype)"
   ],
   "metadata": {
    "collapsed": false,
    "ExecuteTime": {
     "end_time": "2023-09-13T15:10:56.203112Z",
     "start_time": "2023-09-13T15:10:56.189096Z"
    }
   },
   "id": "63e3d9e489ea56c6"
  },
  {
   "cell_type": "markdown",
   "source": [
    "### 정리 (5)\n",
    "- 출력 과정에서 **double_f** 와 **short_g** 를 연산하고 있다.\n",
    "- 각각 데이터 타입은 float64와 int16 이다.\n",
    "- 연산 과정에서 PyTorch는 데이터 타입을 일치시키려고 하기 때문에 결과적으로 연산 결과의 데이터 타입은 torch.float64가 되는 것이다."
   ],
   "metadata": {
    "collapsed": false
   },
   "id": "25029d3ffcd3b458"
  },
  {
   "cell_type": "markdown",
   "source": [
    "# f_tensor_operations.py"
   ],
   "metadata": {
    "collapsed": false
   },
   "id": "9e823b4ef10dc459"
  },
  {
   "cell_type": "code",
   "execution_count": 10,
   "outputs": [],
   "source": [
    "import torch"
   ],
   "metadata": {
    "collapsed": false,
    "ExecuteTime": {
     "end_time": "2023-09-17T06:23:50.601506Z",
     "start_time": "2023-09-17T06:23:50.596174Z"
    }
   },
   "id": "b778b7eaf5505228"
  },
  {
   "cell_type": "code",
   "execution_count": 9,
   "outputs": [
    {
     "name": "stdout",
     "output_type": "stream",
     "text": [
      "tensor([[2., 2., 2.],\n",
      "        [2., 2., 2.]])\n",
      "tensor([[2., 2., 2.],\n",
      "        [2., 2., 2.]])\n"
     ]
    }
   ],
   "source": [
    "t1 = torch.ones(size=(2, 3))\n",
    "t2 = torch.ones(size=(2, 3))\n",
    "t3 = torch.add(t1, t2)\n",
    "t4 = t1 + t2\n",
    "\n",
    "print(t3)\n",
    "print(t4)"
   ],
   "metadata": {
    "collapsed": false,
    "ExecuteTime": {
     "end_time": "2023-09-17T06:23:48.251213Z",
     "start_time": "2023-09-17T06:23:48.232626Z"
    }
   },
   "id": "e4a9aeb530669a5b"
  },
  {
   "cell_type": "code",
   "execution_count": 11,
   "outputs": [
    {
     "name": "stdout",
     "output_type": "stream",
     "text": [
      "tensor([[0., 0., 0.],\n",
      "        [0., 0., 0.]])\n",
      "tensor([[0., 0., 0.],\n",
      "        [0., 0., 0.]])\n"
     ]
    }
   ],
   "source": [
    "t5 = torch.sub(t1, t2)\n",
    "t6 = t1 - t2\n",
    "\n",
    "print(t5)\n",
    "print(t6)"
   ],
   "metadata": {
    "collapsed": false,
    "ExecuteTime": {
     "end_time": "2023-09-17T06:24:18.215971Z",
     "start_time": "2023-09-17T06:24:18.199469Z"
    }
   },
   "id": "29cc0d2037dda4cb"
  },
  {
   "cell_type": "code",
   "execution_count": 12,
   "outputs": [
    {
     "name": "stdout",
     "output_type": "stream",
     "text": [
      "tensor([[1., 1., 1.],\n",
      "        [1., 1., 1.]])\n",
      "tensor([[1., 1., 1.],\n",
      "        [1., 1., 1.]])\n"
     ]
    }
   ],
   "source": [
    "t7 = torch.mul(t1, t2)\n",
    "t8 = t1 * t2\n",
    "\n",
    "print(t7)\n",
    "print(t8)"
   ],
   "metadata": {
    "collapsed": false,
    "ExecuteTime": {
     "end_time": "2023-09-17T06:24:39.702465Z",
     "start_time": "2023-09-17T06:24:39.687414Z"
    }
   },
   "id": "b0cfa66668a4685d"
  },
  {
   "cell_type": "code",
   "execution_count": 13,
   "outputs": [
    {
     "name": "stdout",
     "output_type": "stream",
     "text": [
      "tensor([[1., 1., 1.],\n",
      "        [1., 1., 1.]])\n",
      "tensor([[1., 1., 1.],\n",
      "        [1., 1., 1.]])\n"
     ]
    }
   ],
   "source": [
    "t9 = torch.div(t1, t2)\n",
    "t10 = t1 / t2\n",
    "\n",
    "print(t9)\n",
    "print(t10)"
   ],
   "metadata": {
    "collapsed": false,
    "ExecuteTime": {
     "end_time": "2023-09-17T06:25:29.493079Z",
     "start_time": "2023-09-17T06:25:29.475373Z"
    }
   },
   "id": "c9b4d1ba8842e5cf"
  },
  {
   "cell_type": "markdown",
   "source": [
    "# g_tensor_operations_matmul.py"
   ],
   "metadata": {
    "collapsed": false
   },
   "id": "1c7fbd547a39c159"
  },
  {
   "cell_type": "markdown",
   "source": [
    "### 정리\n",
    "- torch.Size([2, 3]) 인 두 개의 텐서 연산이다.\n",
    "- 텐서의 연산은 기본적으로 **Element-wise 연산** 이다.\n",
    "- 즉, 같은 자리에 있는 원소끼리 연산을 실행한다."
   ],
   "metadata": {
    "collapsed": false
   },
   "id": "f76e360548aec4ff"
  },
  {
   "cell_type": "markdown",
   "source": [
    "# h_tensor_operations_mm.py"
   ],
   "metadata": {
    "collapsed": false
   },
   "id": "7bf9346481129018"
  },
  {
   "cell_type": "code",
   "execution_count": 15,
   "outputs": [],
   "source": [
    "import torch"
   ],
   "metadata": {
    "collapsed": false,
    "ExecuteTime": {
     "end_time": "2023-09-17T06:30:56.102408Z",
     "start_time": "2023-09-17T06:30:56.084616Z"
    }
   },
   "id": "301c7cabf275881e"
  },
  {
   "cell_type": "code",
   "execution_count": 31,
   "outputs": [
    {
     "name": "stdout",
     "output_type": "stream",
     "text": [
      "tensor(7) torch.Size([])\n"
     ]
    }
   ],
   "source": [
    "t1 = torch.dot(\n",
    "    torch.tensor([2, 3]), torch.tensor([2, 1])\n",
    ")\n",
    "\n",
    "print(t1, t1.size())"
   ],
   "metadata": {
    "collapsed": false,
    "ExecuteTime": {
     "end_time": "2023-09-17T06:42:32.774488Z",
     "start_time": "2023-09-17T06:42:32.757018Z"
    }
   },
   "id": "811d031ac7225ba1"
  },
  {
   "cell_type": "markdown",
   "source": [
    "### 정리 (1)\n",
    "- **dot** 연산은 벡터의 내적을 의미한다.\n",
    "- 따라서, t1에 두 텐서의 dot 연산을 실행하면 t1 = 2*2 + 3*1 이 된다.\n",
    "- 즉, tensor(7)이 된다."
   ],
   "metadata": {
    "collapsed": false
   },
   "id": "37c6dda702892c67"
  },
  {
   "cell_type": "code",
   "execution_count": 32,
   "outputs": [
    {
     "name": "stdout",
     "output_type": "stream",
     "text": [
      "tensor([[ 0.8514, -0.3363],\n",
      "        [ 1.6936,  0.1941]]) torch.Size([2, 2])\n"
     ]
    }
   ],
   "source": [
    "t2 = torch.randn(2, 3)\n",
    "t3 = torch.randn(3, 2)\n",
    "t4 = torch.mm(t2, t3)\n",
    "\n",
    "print(t4, t4.size())"
   ],
   "metadata": {
    "collapsed": false,
    "ExecuteTime": {
     "end_time": "2023-09-17T06:43:38.486504Z",
     "start_time": "2023-09-17T06:43:38.466748Z"
    }
   },
   "id": "c9991aed17c8d302"
  },
  {
   "cell_type": "markdown",
   "source": [
    "### 정리 (2)\n",
    "- t2는 2x3 행렬의 형태를 하고 있다.\n",
    "- t3 = 3x2 행렬의 형태를 하고 있다.\n",
    "- **mm** 연산은 행렬의 곱을 의미한다.\n",
    "- 따라서, nxm 텐서와 mxp 텐서를 연산하면 nxp 형태의 텐서가 결과로 나타나게 된다.\n",
    "- 즉, 행렬의 곱 연산 결과와 동일하다."
   ],
   "metadata": {
    "collapsed": false
   },
   "id": "1b996adb1e0bacc7"
  },
  {
   "cell_type": "code",
   "execution_count": 22,
   "outputs": [
    {
     "name": "stdout",
     "output_type": "stream",
     "text": [
      "torch.Size([10, 3, 5])\n"
     ]
    }
   ],
   "source": [
    "t5 = torch.randn(10, 3, 4)\n",
    "t6 = torch.randn(10, 4, 5)\n",
    "t7 = torch.bmm(t5, t6)\n",
    "\n",
    "print(t7.size())"
   ],
   "metadata": {
    "collapsed": false,
    "ExecuteTime": {
     "end_time": "2023-09-17T06:33:16.315373Z",
     "start_time": "2023-09-17T06:33:16.295775Z"
    }
   },
   "id": "397ab5b7908a9eb9"
  },
  {
   "cell_type": "markdown",
   "source": [
    "### 정리 (3)\n",
    "- **bmm** 은 batch matrix multiplication 이다.\n",
    "- (bxnxm) 텐서와 (bxmxp) 텐서를 bmm 하면, (bxnxp) 텐서가 결과로 나타난다.\n",
    "- 이것은 nxm 행렬과 mxp 행렬을 batch element 마다 곱해진다는 것을 의미한다.\n",
    "- 결과로 나타나는 bxnxp 텐서는 nxp 텐서가 b개 있다는 것을 의미한다."
   ],
   "metadata": {
    "collapsed": false
   },
   "id": "c408de1c728cb038"
  },
  {
   "cell_type": "markdown",
   "source": [
    "# i_tensor_broadcasting.py"
   ],
   "metadata": {
    "collapsed": false
   },
   "id": "3b44bd45ea37939"
  },
  {
   "cell_type": "code",
   "execution_count": 33,
   "outputs": [],
   "source": [
    "import torch"
   ],
   "metadata": {
    "collapsed": false,
    "ExecuteTime": {
     "end_time": "2023-09-17T06:47:25.236145Z",
     "start_time": "2023-09-17T06:47:25.204707Z"
    }
   },
   "id": "2ceb9f5ea6ee7e36"
  },
  {
   "cell_type": "code",
   "execution_count": 34,
   "outputs": [
    {
     "name": "stdout",
     "output_type": "stream",
     "text": [
      "tensor([2., 4., 6.])\n"
     ]
    }
   ],
   "source": [
    "t1 = torch.tensor([1.0, 2.0, 3.0])\n",
    "t2 = 2.0\n",
    "\n",
    "print(t1 * t2)"
   ],
   "metadata": {
    "collapsed": false,
    "ExecuteTime": {
     "end_time": "2023-09-17T06:47:46.114880Z",
     "start_time": "2023-09-17T06:47:46.098982Z"
    }
   },
   "id": "39c852a2350ca316"
  },
  {
   "cell_type": "code",
   "execution_count": 37,
   "outputs": [
    {
     "name": "stdout",
     "output_type": "stream",
     "text": [
      "tensor([[-4, -4],\n",
      "        [-2, -1],\n",
      "        [ 6,  5]])\n"
     ]
    }
   ],
   "source": [
    "t3 = torch.tensor([[0, 1], [2, 4], [10, 10]])\n",
    "t4 = torch.tensor([4, 5])\n",
    "\n",
    "print(t3 - t4)"
   ],
   "metadata": {
    "collapsed": false,
    "ExecuteTime": {
     "end_time": "2023-09-17T06:48:59.393732Z",
     "start_time": "2023-09-17T06:48:59.372701Z"
    }
   },
   "id": "5b0bd98083626cb4"
  },
  {
   "cell_type": "code",
   "execution_count": 39,
   "outputs": [
    {
     "name": "stdout",
     "output_type": "stream",
     "text": [
      "tensor([[3., 4.],\n",
      "        [5., 6.]])\n",
      "tensor([[-1.,  0.],\n",
      "        [ 1.,  2.]])\n",
      "tensor([[2., 4.],\n",
      "        [6., 8.]])\n",
      "tensor([[0.5000, 1.0000],\n",
      "        [1.5000, 2.0000]])\n"
     ]
    }
   ],
   "source": [
    "t5 = torch.tensor([[1., 2.], [3., 4.]])\n",
    "\n",
    "print(t5 + 2.0)\n",
    "print(t5 - 2.0)\n",
    "print(t5 * 2.0)\n",
    "print(t5 / 2.0)"
   ],
   "metadata": {
    "collapsed": false,
    "ExecuteTime": {
     "end_time": "2023-09-17T06:50:14.130808Z",
     "start_time": "2023-09-17T06:50:14.113002Z"
    }
   },
   "id": "e17c726e69309609"
  },
  {
   "cell_type": "code",
   "execution_count": 61,
   "outputs": [
    {
     "name": "stdout",
     "output_type": "stream",
     "text": [
      "torch.Size([3, 28, 28])\n"
     ]
    }
   ],
   "source": [
    "def normalize(x):\n",
    "    return x / 255\n",
    "\n",
    "t6 = torch.randn(3, 28, 28)\n",
    "print(normalize(t6).size())"
   ],
   "metadata": {
    "collapsed": false,
    "ExecuteTime": {
     "end_time": "2023-09-17T07:50:57.318735Z",
     "start_time": "2023-09-17T07:50:57.299527Z"
    }
   },
   "id": "7515df634ae3c54c"
  },
  {
   "cell_type": "markdown",
   "source": [
    "### 정리 (1)\n",
    "- **Broadcasting** 이란, 두 텐서의 크기가 다를 때 작은 텐서가 큰 텐서의 크기에 맞추어 연산을 한다는 것이다.\n",
    "- 위 코드들을 보면 연산을 하는 두 텐서의 사이즈는 다르며 작은 텐서의 원소가 큰 텐서에게 맞춰 연산을 하는 것을 결과로 확인할 수 있다."
   ],
   "metadata": {
    "collapsed": false
   },
   "id": "d87445ae2da7cd9e"
  },
  {
   "cell_type": "code",
   "execution_count": 62,
   "outputs": [
    {
     "name": "stdout",
     "output_type": "stream",
     "text": [
      "torch.Size([2, 2])\n",
      "torch.Size([1, 2])\n",
      "torch.Size([2, 1])\n",
      "torch.Size([1])\n",
      "tensor([[4, 3],\n",
      "        [3, 4]])\n",
      "tensor([[6, 7],\n",
      "        [2, 5]])\n",
      "tensor([[8, 6],\n",
      "        [5, 3]])\n",
      "tensor([[ 8,  9],\n",
      "        [ 7, 10]])\n"
     ]
    }
   ],
   "source": [
    "t7 = torch.tensor([[1, 2], [0, 3]])\n",
    "t8 = torch.tensor([[3, 1]])\n",
    "t9 = torch.tensor([[5], [2]])\n",
    "t10 = torch.tensor([7])\n",
    "\n",
    "print(t7.shape)\n",
    "print(t8.shape)\n",
    "print(t9.shape)\n",
    "print(t10.shape)\n",
    "print(t7 + t8)\n",
    "print(t7 + t9)\n",
    "print(t8 + t9)\n",
    "print(t7 + t10)"
   ],
   "metadata": {
    "collapsed": false,
    "ExecuteTime": {
     "end_time": "2023-09-17T07:52:51.398444Z",
     "start_time": "2023-09-17T07:52:51.371771Z"
    }
   },
   "id": "e6f95c0343a19803"
  },
  {
   "cell_type": "markdown",
   "source": [
    "### 정리 (2)\n",
    "- 위 코드로 알 수 있는 Broadcasting의 규칙은 다음과 같다.\n",
    "- 텐서는 최소 하나 이상의 차원을 가져야 한다.\n",
    "- 마지막에서 첫번째로 두 텐서의 차원을 비교한다."
   ],
   "metadata": {
    "collapsed": false
   },
   "id": "964b632012da6912"
  },
  {
   "cell_type": "code",
   "execution_count": 46,
   "outputs": [
    {
     "name": "stdout",
     "output_type": "stream",
     "text": [
      "torch.Size([4, 3, 2])\n"
     ]
    }
   ],
   "source": [
    "t11 = torch.ones(4, 3, 2)\n",
    "t12 = t11 + torch.rand(3, 2)\n",
    "\n",
    "print(t12.shape)"
   ],
   "metadata": {
    "collapsed": false,
    "ExecuteTime": {
     "end_time": "2023-09-17T06:53:18.205915Z",
     "start_time": "2023-09-17T06:53:18.194313Z"
    }
   },
   "id": "447adb4cdaa5e2d0"
  },
  {
   "cell_type": "code",
   "execution_count": 49,
   "outputs": [
    {
     "name": "stdout",
     "output_type": "stream",
     "text": [
      "torch.Size([4, 3, 2])\n"
     ]
    }
   ],
   "source": [
    "t13 = torch.ones(4, 3, 2)\n",
    "t14 = t13 * torch.rand(3, 1)\n",
    "\n",
    "print(t14.shape)"
   ],
   "metadata": {
    "collapsed": false,
    "ExecuteTime": {
     "end_time": "2023-09-17T06:54:24.967045Z",
     "start_time": "2023-09-17T06:54:24.960242Z"
    }
   },
   "id": "354b09b63cbed3b5"
  },
  {
   "cell_type": "code",
   "execution_count": 50,
   "outputs": [
    {
     "name": "stdout",
     "output_type": "stream",
     "text": [
      "torch.Size([4, 3, 2])\n"
     ]
    }
   ],
   "source": [
    "t15 = torch.ones(4, 3, 2)\n",
    "t16 = t15 * torch.rand(1, 2)\n",
    "\n",
    "print(t16.shape)"
   ],
   "metadata": {
    "collapsed": false,
    "ExecuteTime": {
     "end_time": "2023-09-17T06:54:26.235756Z",
     "start_time": "2023-09-17T06:54:26.233046Z"
    }
   },
   "id": "47f26054ea9ab5f"
  },
  {
   "cell_type": "code",
   "execution_count": 51,
   "outputs": [
    {
     "name": "stdout",
     "output_type": "stream",
     "text": [
      "torch.Size([5, 3, 4, 1])\n"
     ]
    }
   ],
   "source": [
    "t17 = torch.ones(5, 3, 4, 1)\n",
    "t18 = t17 * torch.rand(3, 1, 1)\n",
    "\n",
    "print((t17 + t18).size())"
   ],
   "metadata": {
    "collapsed": false,
    "ExecuteTime": {
     "end_time": "2023-09-17T06:54:56.478138Z",
     "start_time": "2023-09-17T06:54:56.459545Z"
    }
   },
   "id": "ad78d2dee936f88a"
  },
  {
   "cell_type": "code",
   "execution_count": 52,
   "outputs": [
    {
     "name": "stdout",
     "output_type": "stream",
     "text": [
      "torch.Size([5, 3, 4, 1])\n"
     ]
    }
   ],
   "source": [
    "t19 = torch.empty(5, 1, 4, 1)\n",
    "t20 = torch.empty(3, 1, 1)\n",
    "\n",
    "print((t19 + t20).size())"
   ],
   "metadata": {
    "collapsed": false,
    "ExecuteTime": {
     "end_time": "2023-09-17T06:55:35.904955Z",
     "start_time": "2023-09-17T06:55:35.898512Z"
    }
   },
   "id": "eb1fa0f6ee1a2e78"
  },
  {
   "cell_type": "code",
   "execution_count": 54,
   "outputs": [
    {
     "name": "stdout",
     "output_type": "stream",
     "text": [
      "torch.Size([3, 1, 7])\n"
     ]
    }
   ],
   "source": [
    "t21 = torch.empty(1)\n",
    "t22 = torch.empty(3, 1, 7)\n",
    "\n",
    "print((t21 + t22).size())"
   ],
   "metadata": {
    "collapsed": false,
    "ExecuteTime": {
     "end_time": "2023-09-17T06:56:17.237819Z",
     "start_time": "2023-09-17T06:56:17.232407Z"
    }
   },
   "id": "b05003d17e4880b4"
  },
  {
   "cell_type": "code",
   "execution_count": 55,
   "outputs": [
    {
     "name": "stdout",
     "output_type": "stream",
     "text": [
      "torch.Size([3, 3, 3])\n"
     ]
    }
   ],
   "source": [
    "t23 = torch.ones(3, 3, 3)\n",
    "t24 = torch.ones(3, 1, 3)\n",
    "\n",
    "print((t23 + t24).size())"
   ],
   "metadata": {
    "collapsed": false,
    "ExecuteTime": {
     "end_time": "2023-09-17T06:56:53.492327Z",
     "start_time": "2023-09-17T06:56:53.468709Z"
    }
   },
   "id": "147c5577fa9df7e8"
  },
  {
   "cell_type": "markdown",
   "source": [
    "### 정리 (3)\n",
    "- 위 예제들은 Broadcasting 이 적용될 때 두 텐서의 차원의 크기를 마지막에서 첫번째로 비교한다는 것을 보여주는 예시이다.\n",
    "- 두 텐서 중 차원이 더 큰 것에 브로드캐스팅되어 연산이 진행되고 그 결과는 텐서의 shape을 확인하면 알 수 있다."
   ],
   "metadata": {
    "collapsed": false
   },
   "id": "d74c67a9de10900"
  },
  {
   "cell_type": "code",
   "execution_count": 64,
   "outputs": [
    {
     "name": "stdout",
     "output_type": "stream",
     "text": [
      "tensor([5., 5., 5., 5.])\n"
     ]
    }
   ],
   "source": [
    "t27 = torch.ones(4) * 5\n",
    "\n",
    "print(t27)"
   ],
   "metadata": {
    "collapsed": false,
    "ExecuteTime": {
     "end_time": "2023-09-17T07:59:41.667229Z",
     "start_time": "2023-09-17T07:59:41.661931Z"
    }
   },
   "id": "5659ad62072e36fa"
  },
  {
   "cell_type": "markdown",
   "source": [
    "### 정리 (4)\n",
    "- Broadcasting은 텐서가 생성될 때도 적용된다.\n",
    "- **torch.ones(4) * 5** 는 원소의 값이 1인 텐서를 생성하는데 브로드캐스팅이 적용되어 결과적으로 값이 5인 텐서가 생성된다."
   ],
   "metadata": {
    "collapsed": false
   },
   "id": "9ff99809ef1c251e"
  },
  {
   "cell_type": "code",
   "execution_count": 57,
   "outputs": [
    {
     "name": "stdout",
     "output_type": "stream",
     "text": [
      "tensor([25., 25., 25., 25.])\n"
     ]
    }
   ],
   "source": [
    "t28 = torch.pow(t27, 2)\n",
    "\n",
    "print(t28)"
   ],
   "metadata": {
    "collapsed": false,
    "ExecuteTime": {
     "end_time": "2023-09-17T06:57:34.949486Z",
     "start_time": "2023-09-17T06:57:34.926256Z"
    }
   },
   "id": "2d3d781ae9ea3703"
  },
  {
   "cell_type": "markdown",
   "source": [
    "### 정리 (5)\n",
    "- Broadcasting은 제곱 연산에도 적용된다.\n",
    "- t27은 size가 [4] 인 텐서이다.\n",
    "- 이 텐서에 제곱을 하면 모든 원소에 동일하게 제곱이 적용된다."
   ],
   "metadata": {
    "collapsed": false
   },
   "id": "5f7f868e0119b6f9"
  },
  {
   "cell_type": "code",
   "execution_count": 58,
   "outputs": [
    {
     "name": "stdout",
     "output_type": "stream",
     "text": [
      "tensor([  1.,   4.,  27., 256.])\n"
     ]
    }
   ],
   "source": [
    "exp = torch.arange(1., 5.)\n",
    "a = torch.arange(1., 5.)\n",
    "t29 = torch.pow(a, exp)\n",
    "\n",
    "print(t29)"
   ],
   "metadata": {
    "collapsed": false,
    "ExecuteTime": {
     "end_time": "2023-09-17T06:58:02.151677Z",
     "start_time": "2023-09-17T06:58:02.125588Z"
    }
   },
   "id": "62d94b5f260e78ee"
  },
  {
   "cell_type": "markdown",
   "source": [
    "### 정리 (6)\n",
    "- **torch.arange()** 는 start부터 end-1 까지 원소를 텐서로 생성한다.\n",
    "- **pow** 의 두번째 인자로 이러한 텐서를 넣으면 각 자리에 맞게 제곱을 한다.\n",
    "- 즉, 1은 1 2는 2 ... 4는 4 이런 방식으로 적용되어 위 코드의 결과가 나타난다."
   ],
   "metadata": {
    "collapsed": false
   },
   "id": "2802ac5798a85dce"
  },
  {
   "cell_type": "markdown",
   "source": [
    "# j_tensor_indexing_slicing.py"
   ],
   "metadata": {
    "collapsed": false
   },
   "id": "b113a7cc40641833"
  },
  {
   "cell_type": "code",
   "execution_count": 65,
   "outputs": [],
   "source": [
    "import torch"
   ],
   "metadata": {
    "collapsed": false,
    "ExecuteTime": {
     "end_time": "2023-09-17T08:02:17.455628Z",
     "start_time": "2023-09-17T08:02:17.450213Z"
    }
   },
   "id": "e5926f5bd6a2eece"
  },
  {
   "cell_type": "code",
   "execution_count": 66,
   "outputs": [
    {
     "name": "stdout",
     "output_type": "stream",
     "text": [
      "tensor([5, 6, 7, 8, 9])\n",
      "tensor([ 1,  6, 11])\n",
      "tensor(7)\n",
      "tensor([ 4,  9, 14])\n"
     ]
    }
   ],
   "source": [
    "x = torch.tensor(\n",
    "    [[0, 1, 2, 3, 4],\n",
    "     [5, 6, 7, 8, 9],\n",
    "     [10, 11, 12, 13, 14]]\n",
    ")\n",
    "\n",
    "print(x[1])\n",
    "print(x[:, 1])\n",
    "print(x[1, 2])\n",
    "print(x[:, -1])"
   ],
   "metadata": {
    "collapsed": false,
    "ExecuteTime": {
     "end_time": "2023-09-17T08:03:09.036497Z",
     "start_time": "2023-09-17T08:03:09.021136Z"
    }
   },
   "id": "a0c2aa7997a70db5"
  },
  {
   "cell_type": "code",
   "execution_count": 67,
   "outputs": [
    {
     "name": "stdout",
     "output_type": "stream",
     "text": [
      "tensor([[ 5,  6,  7,  8,  9],\n",
      "        [10, 11, 12, 13, 14]])\n",
      "tensor([[ 8,  9],\n",
      "        [13, 14]])\n"
     ]
    }
   ],
   "source": [
    "print(x[1:])\n",
    "print(x[1:, 3:])"
   ],
   "metadata": {
    "collapsed": false,
    "ExecuteTime": {
     "end_time": "2023-09-17T08:03:28.077712Z",
     "start_time": "2023-09-17T08:03:28.054948Z"
    }
   },
   "id": "fea534c5b1689340"
  },
  {
   "cell_type": "markdown",
   "source": [
    "### 정리 (1)\n",
    "- Python의 기본적인 Indexing & Slicing과 원리는 동일하다.\n",
    "- print(x[1]) : 두번째 행을 출력하라는 것을 의미한다.\n",
    "- print(x[:, 1]) : 두번째 열을 출력하라는 것을 의미한다. 앞에 : 는 모든 행을 선택한다.\n",
    "- print(x[1, 2]) : 두번째 행과 세변째 열의 값을 출력한다.\n",
    "- print(x[:, -1]) : 두번째 예제와 비슷하다. -1은 마지막을 의미한다.\n",
    "- print(x[1:]) : 두번째 행부터 끝까지 출력하는 것을 의미한다.\n",
    "- print(x[1:, 3:]) : 두번째 행부터 그리고 세번째 열부터 출력하는 것을 의미한다."
   ],
   "metadata": {
    "collapsed": false
   },
   "id": "a23f4422679171d"
  },
  {
   "cell_type": "code",
   "execution_count": 69,
   "outputs": [
    {
     "name": "stdout",
     "output_type": "stream",
     "text": [
      "tensor([[0., 0., 0., 0., 0., 0.],\n",
      "        [0., 0., 1., 0., 0., 0.],\n",
      "        [0., 0., 1., 0., 0., 0.],\n",
      "        [0., 0., 1., 0., 0., 0.],\n",
      "        [0., 0., 0., 0., 0., 0.],\n",
      "        [0., 0., 0., 0., 0., 0.]])\n",
      "tensor([[0., 1., 0.],\n",
      "        [0., 1., 0.],\n",
      "        [0., 1., 0.]])\n"
     ]
    }
   ],
   "source": [
    "y = torch.zeros((6, 6))\n",
    "y[1:4, 2] = 1\n",
    "\n",
    "print(y)\n",
    "print(y[1:4, 1:4])"
   ],
   "metadata": {
    "collapsed": false,
    "ExecuteTime": {
     "end_time": "2023-09-17T08:04:11.003800Z",
     "start_time": "2023-09-17T08:04:10.997854Z"
    }
   },
   "id": "2f79db518dd27878"
  },
  {
   "cell_type": "markdown",
   "source": [
    "### 정리 (2)\n",
    "- 6x6 텐서를 모든 원소의 값을 0으로 생성했다.\n",
    "- y[1:4, 2] = 1 : 1:4는 2번째 행부터 4번째 행까지 슬라이싱 한다는 것을 의미하며, 2는 3번째 열을 의미한다.\n",
    "- 그리고 이 값을 1로 변경한다.\n",
    "- 변경된 결과를 확인하는 것이 위 코드의 print 코드이다."
   ],
   "metadata": {
    "collapsed": false
   },
   "id": "905b2055a28bf056"
  },
  {
   "cell_type": "code",
   "execution_count": 70,
   "outputs": [
    {
     "name": "stdout",
     "output_type": "stream",
     "text": [
      "tensor([[1, 2, 3, 4],\n",
      "        [5, 6, 7, 8]])\n",
      "tensor([[ 6,  7],\n",
      "        [10, 11]])\n",
      "tensor([[ 2,  3,  4],\n",
      "        [ 6,  7,  8],\n",
      "        [10, 11, 12]])\n",
      "tensor([[ 1,  2,  3,  4],\n",
      "        [ 5,  0,  0,  8],\n",
      "        [ 9,  0,  0, 12]])\n"
     ]
    }
   ],
   "source": [
    "z = torch.tensor(\n",
    "    [[1, 2, 3, 4],\n",
    "     [5, 6, 7, 8],\n",
    "     [9, 10, 11, 12]]\n",
    ")\n",
    "\n",
    "print(z[:2])\n",
    "print(z[1:, 1:3])\n",
    "print(z[:, 1:])\n",
    "\n",
    "z[1:, 1:3] = 0\n",
    "print(z)"
   ],
   "metadata": {
    "collapsed": false,
    "ExecuteTime": {
     "end_time": "2023-09-17T08:04:55.443417Z",
     "start_time": "2023-09-17T08:04:55.427154Z"
    }
   },
   "id": "76a3eeb5a2618eb7"
  },
  {
   "cell_type": "markdown",
   "source": [
    "### 정리 (3)\n",
    "- print(z[:2]) : 두번째 행까지만 슬라이싱 하는 것을 의미한다.\n",
    "- print(z[1:, 1:3]) : 첫번째 행부터 끝까지를 슬라이싱, 두번째 열부터 세번째 열까지 슬라이싱하는 것을 의미한다.\n",
    "- print(z[:, 1:]) : 모든 행을 슬라이싱하고, 두번째 열부터 슬라이싱한다.\n",
    "- z[1:, 1:3] = 0 : 두번째 행부터 슬라이싱, 두번째 열부터 세번째 열까지 슬라이싱 해 값을 0으로 바꾼다."
   ],
   "metadata": {
    "collapsed": false
   },
   "id": "619e3f70e3ea5685"
  },
  {
   "cell_type": "markdown",
   "source": [
    "### 정리 (4)\n",
    "- 위 코드들을 정리해보면 2차원 텐서에서 슬라이싱은 다음과 같다.\n",
    "- [: :] 첫번째 오는 인자는 행을 의미, 두번째 오는 인자는 열을 의미한다.\n",
    "- : 는 범위를 지정하는데 사용된다."
   ],
   "metadata": {
    "collapsed": false
   },
   "id": "ae63da91d1d34162"
  },
  {
   "cell_type": "markdown",
   "source": [
    "# k_tensor_reshaping.py"
   ],
   "metadata": {
    "collapsed": false
   },
   "id": "e1007d8b89728c83"
  },
  {
   "cell_type": "code",
   "execution_count": 71,
   "outputs": [],
   "source": [
    "import torch"
   ],
   "metadata": {
    "collapsed": false,
    "ExecuteTime": {
     "end_time": "2023-09-17T08:19:38.707043Z",
     "start_time": "2023-09-17T08:19:38.698141Z"
    }
   },
   "id": "d80cb429af686910"
  },
  {
   "cell_type": "code",
   "execution_count": 72,
   "outputs": [
    {
     "name": "stdout",
     "output_type": "stream",
     "text": [
      "tensor([[1, 2],\n",
      "        [3, 4],\n",
      "        [5, 6]])\n",
      "tensor([[1, 2, 3, 4, 5, 6]])\n"
     ]
    }
   ],
   "source": [
    "t1 = torch.tensor([[1, 2, 3], [4, 5, 6]])\n",
    "t2 = t1.view(3, 2)\n",
    "t3 = t1.reshape(1, 6)\n",
    "\n",
    "print(t2)\n",
    "print(t3)"
   ],
   "metadata": {
    "collapsed": false,
    "ExecuteTime": {
     "end_time": "2023-09-17T08:20:13.099532Z",
     "start_time": "2023-09-17T08:20:13.092511Z"
    }
   },
   "id": "b9d3cb99941caaf2"
  },
  {
   "cell_type": "code",
   "execution_count": 73,
   "outputs": [
    {
     "name": "stdout",
     "output_type": "stream",
     "text": [
      "tensor([[0, 1, 2, 3],\n",
      "        [4, 5, 6, 7]])\n",
      "tensor([[0, 1, 2],\n",
      "        [3, 4, 5]])\n"
     ]
    }
   ],
   "source": [
    "t4 = torch.arange(8).view(2, 4)\n",
    "t5 = torch.arange(6).view(2, 3)\n",
    "\n",
    "print(t4)\n",
    "print(t5)"
   ],
   "metadata": {
    "collapsed": false,
    "ExecuteTime": {
     "end_time": "2023-09-17T08:21:45.741807Z",
     "start_time": "2023-09-17T08:21:45.734176Z"
    }
   },
   "id": "b58162bc10425e2e"
  },
  {
   "cell_type": "markdown",
   "source": [
    "### 정리 (1)\n",
    "- **view** 와 **reshape** 은 텐서의 shape을 변경하는 메소드이다.\n",
    "- 두 메소드의 차이는 다음과 같다.\n",
    "- **view** 는 원래 텐서의 shape만 변경한다.\n",
    "- **reshape** 는 원래 텐서의 shape을 변경한 새로운 텐서를 생성한다. 즉, copy 한다.\n",
    "- 여기서 t4와 t5를 생성하는 코드는 같은 메모리에서 사용하기 때문에 효율적이다."
   ],
   "metadata": {
    "collapsed": false
   },
   "id": "1cda8764a423e2d9"
  },
  {
   "cell_type": "code",
   "execution_count": 74,
   "outputs": [
    {
     "name": "stdout",
     "output_type": "stream",
     "text": [
      "tensor([1, 2, 3])\n",
      "tensor([[1],\n",
      "        [2],\n",
      "        [3]])\n"
     ]
    }
   ],
   "source": [
    "t6 = torch.tensor([[[1], [2], [3]]])\n",
    "t7 = t6.squeeze()\n",
    "t8 = t6.squeeze(0)\n",
    "\n",
    "print(t7)\n",
    "print(t8)"
   ],
   "metadata": {
    "collapsed": false,
    "ExecuteTime": {
     "end_time": "2023-09-17T08:24:38.299419Z",
     "start_time": "2023-09-17T08:24:38.293223Z"
    }
   },
   "id": "6f594c63f35e417"
  },
  {
   "cell_type": "markdown",
   "source": [
    "### 정리 (2)\n",
    "- **squeeze** 는 텐서의 shape을 줄여주는 메소드이다.\n",
    "- 텐서의 쉐입 중 차원이 1인 것이 있다면 그것을 줄여준다.\n",
    "- 혹은 특정 차원만 줄이기도 한다. 그것이 두번째 t8이다. "
   ],
   "metadata": {
    "collapsed": false
   },
   "id": "2fb8720b29f246d3"
  },
  {
   "cell_type": "code",
   "execution_count": 75,
   "outputs": [
    {
     "name": "stdout",
     "output_type": "stream",
     "text": [
      "tensor([[1],\n",
      "        [2],\n",
      "        [3]])\n",
      "tensor([[[1, 2, 3]],\n",
      "\n",
      "        [[4, 5, 6]]]) torch.Size([2, 1, 3])\n"
     ]
    }
   ],
   "source": [
    "t9 = torch.tensor([1, 2, 3])\n",
    "t10 = t9.unsqueeze(1)\n",
    "\n",
    "print(t10)\n",
    "\n",
    "t11 = torch.tensor(\n",
    "    [[1, 2, 3],\n",
    "     [4, 5, 6]]\n",
    ")\n",
    "t12 = t11.unsqueeze(1)\n",
    "\n",
    "print(t12, t12.shape)"
   ],
   "metadata": {
    "collapsed": false,
    "ExecuteTime": {
     "end_time": "2023-09-17T08:27:38.117077Z",
     "start_time": "2023-09-17T08:27:38.109698Z"
    }
   },
   "id": "f481bfcfd3032acd"
  },
  {
   "cell_type": "markdown",
   "source": [
    "### 정리 (3)\n",
    "- **unsqueeze** 는 squeeze의 반대로 텐서의 차원을 늘려준다.\n",
    "- 첫번째 t10은 (3,) 인 텐서의 차원을 늘려 (3, 1) 텐서로 만들어준다.\n",
    "- 두번째 t12는 (2, 3)인 텐서의 두번째 차원을 1 증가해 (2, 1, 3) 텐서로 만들어준다."
   ],
   "metadata": {
    "collapsed": false
   },
   "id": "bed661143bbdd032"
  },
  {
   "cell_type": "code",
   "execution_count": 77,
   "outputs": [
    {
     "name": "stdout",
     "output_type": "stream",
     "text": [
      "tensor([1, 2, 3, 4, 5, 6])\n",
      "tensor([1, 2, 3, 4, 5, 6, 7, 8])\n",
      "tensor([[1, 2, 3, 4],\n",
      "        [5, 6, 7, 8]])\n"
     ]
    }
   ],
   "source": [
    "t13 = torch.tensor([[1, 2, 3], [4, 5, 6]])\n",
    "t14 = t13.flatten()\n",
    "\n",
    "print(t14)\n",
    "\n",
    "t15 = torch.tensor(\n",
    "    [[[1, 2],\n",
    "     [3, 4]],\n",
    "    [[5, 6],\n",
    "     [7, 8]]]\n",
    ")\n",
    "t16 = torch.flatten(t15)\n",
    "t17 = torch.flatten(t15, start_dim=1)\n",
    "\n",
    "print(t16)\n",
    "print(t17)"
   ],
   "metadata": {
    "collapsed": false,
    "ExecuteTime": {
     "end_time": "2023-09-17T08:32:12.808418Z",
     "start_time": "2023-09-17T08:32:12.791112Z"
    }
   },
   "id": "63f9256c81cdeec6"
  },
  {
   "cell_type": "markdown",
   "source": [
    "### 정리 (4)\n",
    "- **flatten** 은 텐서의 차원을 1로 만들어준다.\n",
    "- 여기서 메소드의 옵션으로 **start_dim** 과 **end_dim** 이 있다.\n",
    "- 각각 시작 차원과 끝 차원은 유지하고 나머지를 flatten 해주는 것을 의미한다."
   ],
   "metadata": {
    "collapsed": false
   },
   "id": "3be73b9cbc56844c"
  },
  {
   "cell_type": "code",
   "execution_count": 83,
   "outputs": [
    {
     "name": "stdout",
     "output_type": "stream",
     "text": [
      "torch.Size([2, 3, 5])\n",
      "torch.Size([5, 2, 3])\n",
      "tensor([[1, 2, 3],\n",
      "        [4, 5, 6]])\n",
      "tensor([[1, 4],\n",
      "        [2, 5],\n",
      "        [3, 6]])\n"
     ]
    }
   ],
   "source": [
    "t18 = torch.randn(2, 3, 5)\n",
    "print(t18.shape)\n",
    "print(torch.permute(t18, (2, 0, 1)).size())\n",
    "\n",
    "t19 = torch.tensor([[1, 2, 3], [4, 5, 6]])\n",
    "t20 = torch.permute(t19, dims=(0, 1))\n",
    "t21 = torch.permute(t19, dims=(1, 0))\n",
    "\n",
    "print(t20)\n",
    "print(t21)"
   ],
   "metadata": {
    "collapsed": false,
    "ExecuteTime": {
     "end_time": "2023-09-17T08:36:32.940036Z",
     "start_time": "2023-09-17T08:36:32.935175Z"
    }
   },
   "id": "218c6025a5b54b9f"
  },
  {
   "cell_type": "markdown",
   "source": [
    "### 정리 (5)\n",
    "- **permute** 는 차원의 순서를 변경해주는 메소드이다.\n",
    "- t18의 코드는 (2, 3, 5) 텐서의 순서를 변경해 (5, 3, 2) 텐서로 만들어준다.\n",
    "- 메소드 인자를 통해 차원의 순서를 지정할 수 있다."
   ],
   "metadata": {
    "collapsed": false
   },
   "id": "e8568034ebcef6f5"
  },
  {
   "cell_type": "code",
   "execution_count": 84,
   "outputs": [
    {
     "name": "stdout",
     "output_type": "stream",
     "text": [
      "tensor([[1, 4],\n",
      "        [2, 5],\n",
      "        [3, 6]])\n",
      "tensor([[1, 4],\n",
      "        [2, 5],\n",
      "        [3, 6]])\n"
     ]
    }
   ],
   "source": [
    "t22 = torch.transpose(t19, 0, 1)\n",
    "\n",
    "print(t22)\n",
    "\n",
    "t23 = torch.t(t19)\n",
    "\n",
    "print(t23)"
   ],
   "metadata": {
    "collapsed": false,
    "ExecuteTime": {
     "end_time": "2023-09-17T08:38:15.431778Z",
     "start_time": "2023-09-17T08:38:15.401978Z"
    }
   },
   "id": "28390b1c2405bb12"
  },
  {
   "cell_type": "markdown",
   "source": [
    "### 정리 (6)\n",
    "- **transpose** 는 특정 2개의 차원을 바꿔준다.\n",
    "- 위 코드에서는 t19 (2, 3) 텐서를 (3, 2) 텐서로 변경한다.\n",
    "- **t** 는 2D 텐서에게만 적용할 수 있다.\n",
    "- 행과 열을 바꿔주는 역할을 한다."
   ],
   "metadata": {
    "collapsed": false
   },
   "id": "fa451fa9ccf8dce2"
  },
  {
   "cell_type": "markdown",
   "source": [
    "# l_tensor_concat.py"
   ],
   "metadata": {
    "collapsed": false
   },
   "id": "7dbf8de3e610af34"
  },
  {
   "cell_type": "code",
   "execution_count": 85,
   "outputs": [],
   "source": [
    "import torch"
   ],
   "metadata": {
    "collapsed": false,
    "ExecuteTime": {
     "end_time": "2023-09-17T08:39:32.895043Z",
     "start_time": "2023-09-17T08:39:32.887123Z"
    }
   },
   "id": "e17d525a78d80efd"
  },
  {
   "cell_type": "code",
   "execution_count": 86,
   "outputs": [
    {
     "name": "stdout",
     "output_type": "stream",
     "text": [
      "torch.Size([2, 6, 3])\n"
     ]
    }
   ],
   "source": [
    "t1 = torch.zeros([2, 1, 3])\n",
    "t2 = torch.zeros([2, 3, 3])\n",
    "t3 = torch.zeros([2, 2, 3])\n",
    "\n",
    "t4 = torch.cat([t1, t2, t3], dim=1)\n",
    "print(t4.shape)"
   ],
   "metadata": {
    "collapsed": false,
    "ExecuteTime": {
     "end_time": "2023-09-17T08:40:06.287420Z",
     "start_time": "2023-09-17T08:40:06.282506Z"
    }
   },
   "id": "8a91520f75b54809"
  },
  {
   "cell_type": "markdown",
   "source": [
    "### 정리 (1)\n",
    "- **cat** 은 특정 차원을 기준으로 텐서를 붙인다.\n",
    "- 위 코드에서는 dim=1 을 기준으로 3개의 텐서를 붙이며 해당 차원이 증가한다.\n",
    "- 따라서, t4의 차원은 (2, 6, 3)이 된다."
   ],
   "metadata": {
    "collapsed": false
   },
   "id": "2bd3db42ee458110"
  },
  {
   "cell_type": "code",
   "execution_count": 87,
   "outputs": [
    {
     "name": "stdout",
     "output_type": "stream",
     "text": [
      "torch.Size([8])\n",
      "tensor([0, 1, 2, 3, 4, 5, 6, 7])\n"
     ]
    }
   ],
   "source": [
    "t5 = torch.arange(0, 3)\n",
    "t6 = torch.arange(3, 8)\n",
    "\n",
    "t7 = torch.cat((t5, t6), dim=0)\n",
    "print(t7.shape)\n",
    "print(t7)"
   ],
   "metadata": {
    "collapsed": false,
    "ExecuteTime": {
     "end_time": "2023-09-17T08:41:35.417952Z",
     "start_time": "2023-09-17T08:41:35.399576Z"
    }
   },
   "id": "b4ac76613dc04de7"
  },
  {
   "cell_type": "code",
   "execution_count": 90,
   "outputs": [
    {
     "name": "stdout",
     "output_type": "stream",
     "text": [
      "torch.Size([4, 3])\n",
      "tensor([[ 0,  1,  2],\n",
      "        [ 3,  4,  5],\n",
      "        [ 6,  7,  8],\n",
      "        [ 9, 10, 11]])\n",
      "torch.Size([2, 6])\n",
      "tensor([[ 0,  1,  2,  6,  7,  8],\n",
      "        [ 3,  4,  5,  9, 10, 11]])\n"
     ]
    }
   ],
   "source": [
    "t8 = torch.arange(0, 6).reshape(2, 3)\n",
    "t9 = torch.arange(6, 12).reshape(2, 3)\n",
    "\n",
    "t10 = torch.cat((t8, t9), dim=0)\n",
    "print(t10.shape)\n",
    "print(t10)\n",
    "\n",
    "t11 = torch.cat((t8, t9), dim=1)\n",
    "print(t11.size())\n",
    "print(t11)"
   ],
   "metadata": {
    "collapsed": false,
    "ExecuteTime": {
     "end_time": "2023-09-17T08:45:56.024597Z",
     "start_time": "2023-09-17T08:45:56.017506Z"
    }
   },
   "id": "40649a2718a10a02"
  },
  {
   "cell_type": "markdown",
   "source": [
    "### 정리 (2)\n",
    "- 첫번째 코드는 1차원 텐서를 생성해 두 텐서를 붙이고 있다.\n",
    "- 두번째 코드는 1차원 텐서를 생성하면서 shape을 (2, 3)으로 변경했다.\n",
    "- 2차원 텐서 간의 병합도 해당 차원을 기준으로 병합을 수행한다.\n",
    "- 세번째 코드는 1차원을 기준으로 병합해서 위와 같은 모양의 텐서가 만들어진다."
   ],
   "metadata": {
    "collapsed": false
   },
   "id": "2e11e6659b0eab7"
  },
  {
   "cell_type": "code",
   "execution_count": 91,
   "outputs": [
    {
     "name": "stdout",
     "output_type": "stream",
     "text": [
      "torch.Size([6, 3])\n",
      "tensor([[ 0,  1,  2],\n",
      "        [ 3,  4,  5],\n",
      "        [ 6,  7,  8],\n",
      "        [ 9, 10, 11],\n",
      "        [12, 13, 14],\n",
      "        [15, 16, 17]])\n",
      "torch.Size([2, 9])\n",
      "tensor([[ 0,  1,  2,  6,  7,  8, 12, 13, 14],\n",
      "        [ 3,  4,  5,  9, 10, 11, 15, 16, 17]])\n"
     ]
    }
   ],
   "source": [
    "t12 = torch.arange(0, 6).reshape(2, 3)\n",
    "t13 = torch.arange(6, 12).reshape(2, 3)\n",
    "t14 = torch.arange(12, 18).reshape(2, 3)\n",
    "\n",
    "t15 = torch.cat((t12, t13, t14), dim=0)\n",
    "print(t15.size())\n",
    "print(t15)\n",
    "\n",
    "t16 = torch.cat((t12, t13, t14), dim=1)\n",
    "print(t16.size())\n",
    "print(t16)"
   ],
   "metadata": {
    "collapsed": false,
    "ExecuteTime": {
     "end_time": "2023-09-17T08:48:00.897503Z",
     "start_time": "2023-09-17T08:48:00.879212Z"
    }
   },
   "id": "c8d9b79f9bebe74a"
  },
  {
   "cell_type": "markdown",
   "source": [
    "### 정리 (3)\n",
    "- (2, 3) 텐서를 3개 생성해 각각 dim=0, dim=1 을 기준으로 병합을 시도한다.\n",
    "- cat 메소드의 핵심은 지정한 차원의 수가 증가한다는 것이다."
   ],
   "metadata": {
    "collapsed": false
   },
   "id": "593bf489c676b036"
  },
  {
   "cell_type": "code",
   "execution_count": 92,
   "outputs": [
    {
     "name": "stdout",
     "output_type": "stream",
     "text": [
      "torch.Size([2, 2, 3])\n",
      "tensor([[[ 0,  1,  2],\n",
      "         [ 3,  4,  5]],\n",
      "\n",
      "        [[ 6,  7,  8],\n",
      "         [ 9, 10, 11]]])\n",
      "torch.Size([1, 4, 3])\n",
      "tensor([[[ 0,  1,  2],\n",
      "         [ 3,  4,  5],\n",
      "         [ 6,  7,  8],\n",
      "         [ 9, 10, 11]]])\n",
      "torch.Size([1, 2, 6])\n",
      "tensor([[[ 0,  1,  2,  6,  7,  8],\n",
      "         [ 3,  4,  5,  9, 10, 11]]])\n"
     ]
    }
   ],
   "source": [
    "t17 = torch.arange(0, 6).reshape(1, 2, 3)\n",
    "t18 = torch.arange(6, 12).reshape(1, 2, 3)\n",
    "\n",
    "t19 = torch.cat((t17, t18), dim=0)\n",
    "print(t19.size())\n",
    "print(t19)\n",
    "\n",
    "t20 = torch.cat((t17, t18), dim=1)\n",
    "print(t20.size())\n",
    "print(t20)\n",
    "\n",
    "t21 = torch.cat((t17, t18), dim=2)\n",
    "print(t21.size())\n",
    "print(t21)"
   ],
   "metadata": {
    "collapsed": false,
    "ExecuteTime": {
     "end_time": "2023-09-17T08:51:57.760350Z",
     "start_time": "2023-09-17T08:51:57.736008Z"
    }
   },
   "id": "6228861cc6d8fd20"
  },
  {
   "cell_type": "markdown",
   "source": [
    "### 정리 (4)\n",
    "- 3차원 텐서에서도 병합은 해당 차원을 기준으로 병합한다.\n",
    "- 그리고 해당 차원이 증가한다."
   ],
   "metadata": {
    "collapsed": false
   },
   "id": "fca58256fad9dbe1"
  },
  {
   "cell_type": "markdown",
   "source": [
    "# m_tensor_stacking.py"
   ],
   "metadata": {
    "collapsed": false
   },
   "id": "67f3bca13d03dfe8"
  },
  {
   "cell_type": "code",
   "execution_count": 93,
   "outputs": [],
   "source": [
    "import torch"
   ],
   "metadata": {
    "collapsed": false,
    "ExecuteTime": {
     "end_time": "2023-09-17T08:52:46.180168Z",
     "start_time": "2023-09-17T08:52:46.165431Z"
    }
   },
   "id": "414ea0ffc050da5a"
  },
  {
   "cell_type": "code",
   "execution_count": 98,
   "outputs": [
    {
     "name": "stdout",
     "output_type": "stream",
     "text": [
      "torch.Size([2, 2, 3]) True\n",
      "tensor([[[ 1,  2,  3],\n",
      "         [ 4,  5,  6]],\n",
      "\n",
      "        [[ 7,  8,  9],\n",
      "         [10, 11, 12]]])\n",
      "torch.Size([2, 2, 3]) True\n",
      "torch.Size([2, 3, 2]) True\n"
     ]
    }
   ],
   "source": [
    "t1 = torch.tensor([[1, 2, 3], [4, 5, 6]])\n",
    "t2 = torch.tensor([[7, 8, 9], [10, 11, 12]])\n",
    "\n",
    "t3 = torch.stack([t1, t2], dim=0)\n",
    "t4 = torch.cat([t1.unsqueeze(dim=0), t2.unsqueeze(dim=0)], dim=0)\n",
    "print(t3.shape, t3.equal(t4))\n",
    "\n",
    "t5 = torch.stack([t1, t2], dim=1)\n",
    "t6 = torch.cat([t1.unsqueeze(dim=1), t2.unsqueeze(dim=1)], dim=1)\n",
    "print(t5.shape, t5.equal(t6))\n",
    "\n",
    "t7 = torch.stack([t1, t2], dim=2)\n",
    "t8 = torch.cat([t1.unsqueeze(dim=2), t2.unsqueeze(dim=2)], dim=2)\n",
    "print(t7.shape, t7.equal(t8))"
   ],
   "metadata": {
    "collapsed": false,
    "ExecuteTime": {
     "end_time": "2023-09-17T09:10:27.110850Z",
     "start_time": "2023-09-17T09:10:27.104761Z"
    }
   },
   "id": "40196122560a4624"
  },
  {
   "cell_type": "markdown",
   "source": [
    "### 정리 (1)\n",
    "- **stack** 은 지정하는 차원으로 확장해 텐서 시퀀스를 병합한다.\n",
    "- 이 과정은 각각의 텐서를 unsqueeze 한 것을 병합한 것과 결과가 동일하다.\n",
    "- t3과 t4는 각각 (2, 3) 텐서를 dim=0 으로 unsqueeze 하면 (1, 2, 3) 텐서가 된다.\n",
    "- 그리고 이것을 dim=0을 기준으로 병합하면 (2, 2, 3) 텐서가 된다.\n",
    "- 다른 차원을 기준으로 수행해도 원리는 동일하다."
   ],
   "metadata": {
    "collapsed": false
   },
   "id": "9f45f2a5a243ab08"
  },
  {
   "cell_type": "code",
   "execution_count": 105,
   "outputs": [
    {
     "name": "stdout",
     "output_type": "stream",
     "text": [
      "torch.Size([3]) torch.Size([3])\n",
      "torch.Size([2, 3])\n",
      "tensor([[0, 1, 2],\n",
      "        [3, 4, 5]])\n",
      "True\n",
      "torch.Size([3, 2])\n",
      "tensor([[0, 3],\n",
      "        [1, 4],\n",
      "        [2, 5]])\n",
      "True\n"
     ]
    }
   ],
   "source": [
    "t9 = torch.arange(0, 3)\n",
    "t10 = torch.arange(3, 6)\n",
    "print(t9.size(), t10.size())\n",
    "\n",
    "t11 = torch.stack((t9, t10), dim=0)\n",
    "print(t11.size())\n",
    "print(t11)\n",
    "\n",
    "t12 = torch.cat((t9.unsqueeze(0), t10.unsqueeze(0)), dim=0)\n",
    "print(t11.equal(t12))\n",
    "\n",
    "t13 = torch.stack((t9, t10), dim=1)\n",
    "print(t13.size())\n",
    "print(t13)\n",
    "\n",
    "t14 = torch.cat((t9.unsqueeze(1), t10.unsqueeze(1)), dim=1)\n",
    "print(t13.equal(t14))"
   ],
   "metadata": {
    "collapsed": false,
    "ExecuteTime": {
     "end_time": "2023-09-17T09:13:44.781280Z",
     "start_time": "2023-09-17T09:13:44.751360Z"
    }
   },
   "id": "aa3f0606bb54d97"
  },
  {
   "cell_type": "markdown",
   "source": [
    "### 정리 (2)\n",
    "- 위 예제는 그 전 예제를 1D 텐서를 통해 실행한 예제이다."
   ],
   "metadata": {
    "collapsed": false
   },
   "id": "b7e430f50d709b21"
  },
  {
   "cell_type": "markdown",
   "source": [
    "# n_tensor_vstack_hstack.py"
   ],
   "metadata": {
    "collapsed": false
   },
   "id": "42ef4efe3ccbd62f"
  },
  {
   "cell_type": "code",
   "execution_count": 106,
   "outputs": [],
   "source": [
    "import torch"
   ],
   "metadata": {
    "collapsed": false,
    "ExecuteTime": {
     "end_time": "2023-09-17T09:16:54.415325Z",
     "start_time": "2023-09-17T09:16:54.402714Z"
    }
   },
   "id": "51e659c40f93e62c"
  },
  {
   "cell_type": "code",
   "execution_count": 107,
   "outputs": [
    {
     "name": "stdout",
     "output_type": "stream",
     "text": [
      "tensor([[1, 2, 3],\n",
      "        [4, 5, 6]])\n"
     ]
    }
   ],
   "source": [
    "t1 = torch.tensor([1, 2, 3])\n",
    "t2 = torch.tensor([4, 5, 6])\n",
    "t3 = torch.vstack((t1, t2))\n",
    "\n",
    "print(t3)"
   ],
   "metadata": {
    "collapsed": false,
    "ExecuteTime": {
     "end_time": "2023-09-17T10:22:00.008760Z",
     "start_time": "2023-09-17T10:22:00.000924Z"
    }
   },
   "id": "c480ef8742390ce1"
  },
  {
   "cell_type": "code",
   "execution_count": 108,
   "outputs": [
    {
     "name": "stdout",
     "output_type": "stream",
     "text": [
      "tensor([[1],\n",
      "        [2],\n",
      "        [3],\n",
      "        [4],\n",
      "        [5],\n",
      "        [6]])\n"
     ]
    }
   ],
   "source": [
    "t4 = torch.tensor([[1], [2], [3]])\n",
    "t5 = torch.tensor([[4], [5], [6]])\n",
    "t6 = torch.vstack((t4, t5))\n",
    "\n",
    "print(t6)"
   ],
   "metadata": {
    "collapsed": false,
    "ExecuteTime": {
     "end_time": "2023-09-17T10:23:03.844796Z",
     "start_time": "2023-09-17T10:23:03.826487Z"
    }
   },
   "id": "102db25c86faaec2"
  },
  {
   "cell_type": "markdown",
   "source": [
    "### 정리 (1)\n",
    "- **vstack** 은 텐서의 시퀀스를 수직으로 쌓는다.\n",
    "- 이때, 텐서는 같은 수의 열을 가지고 있어야한다."
   ],
   "metadata": {
    "collapsed": false
   },
   "id": "84955643b658462f"
  },
  {
   "cell_type": "code",
   "execution_count": 110,
   "outputs": [
    {
     "name": "stdout",
     "output_type": "stream",
     "text": [
      "torch.Size([2, 2, 3])\n",
      "torch.Size([2, 2, 3])\n",
      "torch.Size([4, 2, 3])\n",
      "tensor([[[ 1,  2,  3],\n",
      "         [ 4,  5,  6]],\n",
      "\n",
      "        [[ 7,  8,  9],\n",
      "         [10, 11, 12]],\n",
      "\n",
      "        [[13, 14, 15],\n",
      "         [16, 17, 18]],\n",
      "\n",
      "        [[19, 20, 21],\n",
      "         [22, 23, 23]]])\n"
     ]
    }
   ],
   "source": [
    "t7 = torch.tensor([\n",
    "    [[1, 2, 3], [4, 5, 6]],\n",
    "    [[7, 8, 9], [10, 11, 12]]\n",
    "])\n",
    "print(t7.shape)\n",
    "\n",
    "t8 = torch.tensor([\n",
    "    [[13, 14, 15], [16, 17, 18]],\n",
    "    [[19, 20, 21], [22, 23, 23]]\n",
    "])\n",
    "print(t8.shape)\n",
    "\n",
    "t9 = torch.vstack((t7, t8))\n",
    "print(t9.shape)\n",
    "print(t9)"
   ],
   "metadata": {
    "collapsed": false,
    "ExecuteTime": {
     "end_time": "2023-09-17T10:24:49.410248Z",
     "start_time": "2023-09-17T10:24:49.391731Z"
    }
   },
   "id": "3393220ca3eabac0"
  },
  {
   "cell_type": "markdown",
   "source": [
    "### 정리(2)\n",
    "- 이 예제는 조금 더 복잡한 shape의 텐서를 vstack한 것이다.\n",
    "- shape의 변화를 보면 [2, 2, 3] 텐서 2개를 vstack해서 [4, 2, 3] 텐서가 만들어진 것을 확인할 수 있다."
   ],
   "metadata": {
    "collapsed": false
   },
   "id": "baec25cf67642506"
  },
  {
   "cell_type": "code",
   "execution_count": 112,
   "outputs": [
    {
     "name": "stdout",
     "output_type": "stream",
     "text": [
      "tensor([1, 2, 3, 4, 5, 6])\n"
     ]
    }
   ],
   "source": [
    "t10 = torch.tensor([1, 2, 3])\n",
    "t11 = torch.tensor([4, 5, 6])\n",
    "t12 = torch.hstack((t10, t11))\n",
    "\n",
    "print(t12)"
   ],
   "metadata": {
    "collapsed": false,
    "ExecuteTime": {
     "end_time": "2023-09-17T10:26:17.246298Z",
     "start_time": "2023-09-17T10:26:17.241286Z"
    }
   },
   "id": "f4ee7c9ccd3ccbd1"
  },
  {
   "cell_type": "code",
   "execution_count": 113,
   "outputs": [
    {
     "name": "stdout",
     "output_type": "stream",
     "text": [
      "tensor([[1, 4],\n",
      "        [2, 5],\n",
      "        [3, 6]])\n"
     ]
    }
   ],
   "source": [
    "t13 = torch.tensor([[1], [2], [3]])\n",
    "t14 = torch.tensor([[4], [5], [6]])\n",
    "t15 = torch.hstack((t13, t14))\n",
    "\n",
    "print(t15)"
   ],
   "metadata": {
    "collapsed": false,
    "ExecuteTime": {
     "end_time": "2023-09-17T10:26:18.586168Z",
     "start_time": "2023-09-17T10:26:18.581925Z"
    }
   },
   "id": "5aeb567792338b6b"
  },
  {
   "cell_type": "markdown",
   "source": [
    "### 정리 (3)\n",
    "- **hstack** 은 텐서의 시퀀스를 수평 방향으로 쌓는다.\n",
    "- 이때 텐서는 같은 수의 행을 가지고 있어야한다."
   ],
   "metadata": {
    "collapsed": false
   },
   "id": "d3e0bd9055b43d70"
  },
  {
   "cell_type": "code",
   "execution_count": 115,
   "outputs": [
    {
     "name": "stdout",
     "output_type": "stream",
     "text": [
      "torch.Size([2, 2, 3])\n",
      "torch.Size([2, 2, 3])\n",
      "torch.Size([2, 4, 3])\n",
      "tensor([[[ 1,  2,  3],\n",
      "         [ 4,  5,  6],\n",
      "         [13, 14, 15],\n",
      "         [16, 17, 18]],\n",
      "\n",
      "        [[ 7,  8,  9],\n",
      "         [10, 11, 12],\n",
      "         [19, 20, 21],\n",
      "         [22, 23, 23]]])\n"
     ]
    }
   ],
   "source": [
    "t16 = torch.tensor([\n",
    "    [[1, 2, 3], [4, 5, 6]],\n",
    "    [[7, 8, 9], [10, 11, 12]]\n",
    "])\n",
    "print(t16.shape)\n",
    "\n",
    "t17 = torch.tensor([\n",
    "    [[13, 14, 15], [16, 17, 18]],\n",
    "    [[19, 20, 21], [22, 23, 23]]\n",
    "])\n",
    "print(t17.shape)\n",
    "\n",
    "t18 = torch.hstack([t16, t17])\n",
    "print(t18.shape)\n",
    "print(t18)"
   ],
   "metadata": {
    "collapsed": false,
    "ExecuteTime": {
     "end_time": "2023-09-17T10:27:28.697431Z",
     "start_time": "2023-09-17T10:27:28.692331Z"
    }
   },
   "id": "d59fa49028027a2d"
  },
  {
   "cell_type": "markdown",
   "source": [
    "### 정리 (4)\n",
    "- 텐서 쉐입 변화를 살펴보면 [2, 2, 3] 텐서 2개를 hstack한 결과 [2, 4, 3] 텐서가 만들어진 것을 확인할 수 있다."
   ],
   "metadata": {
    "collapsed": false
   },
   "id": "569b7947cac7a648"
  }
 ],
 "metadata": {
  "kernelspec": {
   "display_name": "Python 3",
   "language": "python",
   "name": "python3"
  },
  "language_info": {
   "codemirror_mode": {
    "name": "ipython",
    "version": 2
   },
   "file_extension": ".py",
   "mimetype": "text/x-python",
   "name": "python",
   "nbconvert_exporter": "python",
   "pygments_lexer": "ipython2",
   "version": "2.7.6"
  }
 },
 "nbformat": 4,
 "nbformat_minor": 5
}
